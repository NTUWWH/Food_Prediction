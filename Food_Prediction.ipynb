{
 "cells": [
  {
   "cell_type": "code",
   "execution_count": 1,
   "metadata": {
    "collapsed": true
   },
   "outputs": [
    {
     "name": "stdout",
     "output_type": "stream",
     "text": [
      "       income     foodexp\n",
      "0  420.157651  255.839425\n",
      "1  541.411707  310.958667\n",
      "2  901.157457  485.680014\n",
      "3  639.080229  402.997356\n",
      "4  750.875606  495.560775\n"
     ]
    }
   ],
   "source": [
    "import pandas as pd\n",
    "import statsmodels.api as sm\n",
    "\n",
    "data = pd.read_csv('FoodExpenditure.csv')\n",
    "print(data.head())"
   ]
  },
  {
   "cell_type": "code",
   "execution_count": 2,
   "outputs": [
    {
     "name": "stdout",
     "output_type": "stream",
     "text": [
      "                            OLS Regression Results                            \n",
      "==============================================================================\n",
      "Dep. Variable:                foodexp   R-squared:                       0.830\n",
      "Model:                            OLS   Adj. R-squared:                  0.830\n",
      "Method:                 Least Squares   F-statistic:                     1141.\n",
      "Date:                Sat, 20 Apr 2024   Prob (F-statistic):           9.92e-92\n",
      "Time:                        22:11:09   Log-Likelihood:                -1445.7\n",
      "No. Observations:                 235   AIC:                             2895.\n",
      "Df Residuals:                     233   BIC:                             2902.\n",
      "Df Model:                           1                                         \n",
      "Covariance Type:            nonrobust                                         \n",
      "==============================================================================\n",
      "                 coef    std err          t      P>|t|      [0.025      0.975]\n",
      "------------------------------------------------------------------------------\n",
      "const        147.4754     15.957      9.242      0.000     116.037     178.914\n",
      "income         0.4852      0.014     33.772      0.000       0.457       0.513\n",
      "==============================================================================\n",
      "Omnibus:                       68.110   Durbin-Watson:                   1.411\n",
      "Prob(Omnibus):                  0.000   Jarque-Bera (JB):              927.676\n",
      "Skew:                          -0.670   Prob(JB):                    3.61e-202\n",
      "Kurtosis:                      12.641   Cond. No.                     2.38e+03\n",
      "==============================================================================\n",
      "\n",
      "Notes:\n",
      "[1] Standard Errors assume that the covariance matrix of the errors is correctly specified.\n",
      "[2] The condition number is large, 2.38e+03. This might indicate that there are\n",
      "strong multicollinearity or other numerical problems.\n"
     ]
    }
   ],
   "source": [
    "X = data['income']  # 自变量\n",
    "y = data['foodexp']  # 目标变量\n",
    "\n",
    "# 添加常数项到自变量中，因为statsmodels的线性回归不默认添加截距\n",
    "X = sm.add_constant(X)\n",
    "\n",
    "# 创建模型\n",
    "model = sm.OLS(y, X)\n",
    "results = model.fit()\n",
    "print(results.summary())"
   ],
   "metadata": {
    "collapsed": false,
    "pycharm": {
     "name": "#%%\n"
    }
   }
  },
  {
   "cell_type": "code",
   "execution_count": null,
   "outputs": [],
   "source": [],
   "metadata": {
    "collapsed": false,
    "pycharm": {
     "name": "#%%\n"
    }
   }
  }
 ],
 "metadata": {
  "kernelspec": {
   "name": "pycharm-43782dfe",
   "language": "python",
   "display_name": "My_Custom_Kernel"
  },
  "language_info": {
   "codemirror_mode": {
    "name": "ipython",
    "version": 2
   },
   "file_extension": ".py",
   "mimetype": "text/x-python",
   "name": "python",
   "nbconvert_exporter": "python",
   "pygments_lexer": "ipython2",
   "version": "2.7.6"
  }
 },
 "nbformat": 4,
 "nbformat_minor": 0
}